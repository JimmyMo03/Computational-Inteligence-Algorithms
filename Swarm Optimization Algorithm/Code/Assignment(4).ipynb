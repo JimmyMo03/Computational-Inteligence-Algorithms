{
  "nbformat": 4,
  "nbformat_minor": 0,
  "metadata": {
    "colab": {
      "provenance": []
    },
    "kernelspec": {
      "name": "python3",
      "display_name": "Python 3"
    },
    "language_info": {
      "name": "python"
    }
  },
  "cells": [
    {
      "cell_type": "code",
      "source": [
        "import numpy as np"
      ],
      "metadata": {
        "id": "zVEMKEbMTnQj"
      },
      "execution_count": 26,
      "outputs": []
    },
    {
      "cell_type": "markdown",
      "source": [
        "# Initializing the inital population\n",
        "\n"
      ],
      "metadata": {
        "id": "msti-egu5pY_"
      }
    },
    {
      "cell_type": "code",
      "source": [
        "def initpop(npop,x_max,x_min,v_max,dim):\n",
        "  for i in range(dim):\n",
        "    v_zeros.append(0)\n",
        "\n",
        "  x_id = np.random.uniform(low=x_min,high=x_max,size=[npop,dim])   #Array of particle's initial positions.\n",
        "  v_id = np.random.uniform(low=v_zeros,high=v_max,size=[npop,dim]) #Array of particle's initial velocities.\n",
        "\n",
        "\n",
        "  return x_id, v_id"
      ],
      "metadata": {
        "id": "NE_zrkIf4EkJ"
      },
      "execution_count": 27,
      "outputs": []
    },
    {
      "cell_type": "markdown",
      "source": [
        "# Fitness function"
      ],
      "metadata": {
        "id": "QlibrQvSBOX4"
      }
    },
    {
      "cell_type": "code",
      "source": [
        "def fitCalc(x_i):   \n",
        "  #x_i: single particle position\n",
        "  #fitness: the fitness value of a signle particle.\n",
        "\n",
        "  fitness = np.sin(2*x_i[0]-0.5*np.pi)+(3*np.cos(x_i[1])+0.5*x_i[0])\n",
        "  \n",
        "  return fitness"
      ],
      "metadata": {
        "id": "5r8gEGEGBVTD"
      },
      "execution_count": 28,
      "outputs": []
    },
    {
      "cell_type": "markdown",
      "source": [
        "# Update particle best position (if found)"
      ],
      "metadata": {
        "id": "3OVOmxomIJch"
      }
    },
    {
      "cell_type": "code",
      "source": [
        "def updatePid(x_i,x_fitness,p_i,particle_bestFit):\n",
        "  #x_i: single particle position.\n",
        "  #x_fitness: single particle fitness.\n",
        "  #p_i: the particle best position across all the previouse generations.\n",
        "  #particle_bestFit: particles best fintess values across all the previouse generations.\n",
        "  if (x_fitness > particle_bestFit):\n",
        "    p_i = x_i\n",
        "    particle_bestFit = x_fitness\n",
        "  else:\n",
        "    return p_i, particle_bestFit\n",
        "\n",
        "  return p_i, particle_bestFit"
      ],
      "metadata": {
        "id": "PZBaEDhNIHQU"
      },
      "execution_count": 29,
      "outputs": []
    },
    {
      "cell_type": "markdown",
      "source": [
        "# Update best position in the population (if found)"
      ],
      "metadata": {
        "id": "rYdKz_nuLCTF"
      }
    },
    {
      "cell_type": "code",
      "source": [
        "def updatePgd(p_i,particle_bestFit,p_g,global_bestFit):\n",
        "  #p_i: a single particle best position\n",
        "  #particle_bestFit: a particle fitness value associated to p_i.\n",
        "  #p_g: a vector of 1*dim of representing the best position in the population across all the previouse generations\n",
        "  #global_bestFit: fitness value associated to the p_g\n",
        "  if (particle_bestFit > global_bestFit):\n",
        "    p_g = p_i\n",
        "    global_bestFit = particle_bestFit\n",
        "  else:\n",
        "    return p_g, global_bestFit\n",
        "\n",
        "  return p_g, global_bestFit"
      ],
      "metadata": {
        "id": "vYjBrqL0LJ_Y"
      },
      "execution_count": 30,
      "outputs": []
    },
    {
      "cell_type": "markdown",
      "source": [
        "# Updating Position and Velocity of Particle."
      ],
      "metadata": {
        "id": "8BmMXiRRMdqn"
      }
    },
    {
      "cell_type": "code",
      "source": [
        "def updateVidXid(p_i,p_g,x_i,v_i,c_cog,c_soc,dim):\n",
        "  #v_i: single particle velocity.\n",
        "  #c_cog: cognitive component accerlaration constant\n",
        "  #c_soc: social component accerlaration constant\n",
        "  r_cog = np.random.random(size=2)\n",
        "  r_soc = np.random.random(size=2)\n",
        "\n",
        "  cognitive = c_cog * r_cog * (p_i - x_i)\n",
        "  social = c_soc * r_soc * (p_g - x_i)\n",
        "\n",
        "  v_i = v_i + cognitive + social\n",
        "  x_i = x_i + v_i\n",
        "\n",
        "  return x_i, v_i"
      ],
      "metadata": {
        "id": "5OE0Qe-0MfDZ"
      },
      "execution_count": 31,
      "outputs": []
    },
    {
      "cell_type": "markdown",
      "source": [
        "MAIN PSO FUNCTION"
      ],
      "metadata": {
        "id": "daLzUuBo5usM"
      }
    },
    {
      "cell_type": "code",
      "source": [
        "def PSO(numItr,npop,x_max,x_min,v_max,dim,c_cog,c_soc):\n",
        "    #Use this function to put all the PSO algorithm together for number of iterations\n",
        "    #numItr: number of iterations.(generations)\n",
        "    #npop: population size\n",
        "    #x_max: the upper limit for each decision variable (positions). [10,12]\n",
        "    #x_min: the lower limit for each decision variable (positions). [1,2]\n",
        "    #v_max: the upper limit for each decision variable (velocity). [2,4]\n",
        "    #c_cog: cognitive constant (c1)\n",
        "    #c_soc: social constant (c2)\n",
        "    #dim: the number of decision variable.\n",
        "    \n",
        "    #Intialize\n",
        "    population = []\n",
        "    population = initpop(npop,x_max,x_min,v_max,dim)\n",
        "\n",
        "    positions = population[0]    #array that stores the list of positions of all particles\n",
        "    velocities = population[1]   #array that stores the list of velocitites of all particles\n",
        "\n",
        "    p_i = []\n",
        "    p_g = []\n",
        "    particle_bestFit = 0\n",
        "    global_bestFit = 0\n",
        "\n",
        "    for i in range(dim):\n",
        "      p_i.append(0)\n",
        "      p_g.append(0)\n",
        "\n",
        "    #repeat till number of iterations\n",
        "    for iterations in range(numItr):\n",
        "      for i in range(npop):\n",
        "        x_i = positions[i]\n",
        "        v_i = velocities[i]\n",
        "        x_fitness = fitCalc(x_i)\n",
        "\n",
        "        #Update particle best position and global best position\n",
        "        p_i, particle_bestFit = updatePid(x_i,x_fitness,p_i,particle_bestFit)\n",
        "        p_g, global_bestFit = updatePgd(p_i,particle_bestFit,p_g,global_bestFit)\n",
        "\n",
        "        #Update velocity and position\n",
        "        x_i, v_i = updateVidXid(p_i,p_g,x_i,v_i,c_cog,c_soc,dim)\n",
        "\n",
        "    return  p_g, global_bestFit\n",
        "    #p_g: the position with the best fitness in the final generation.\n",
        "    #global_bestFit: value associated to p_g\n"
      ],
      "metadata": {
        "id": "N1wtfziaviH7"
      },
      "execution_count": 32,
      "outputs": []
    },
    {
      "cell_type": "code",
      "source": [
        "numItr = int(input(\"Enter number of iterations: \"))\n",
        "npop = int(input(\"Enter population size: \"))\n",
        "dim = 2\n",
        "c_cog = float(input(\"Enter the Cognitive Component constant: \"))\n",
        "c_soc = float(input(\"Enter the Cognitive Component constant: \"))\n",
        "\n",
        "x_max = []\n",
        "x_min = []\n",
        "\n",
        "v_max = []\n",
        "v_zeros = []\n",
        "\n",
        "\n",
        "#Dynamically initialize the max and min values for the decision variables, also the max velocities\n",
        "for i in range(dim):\n",
        "  m = int(input(f\"Enter the max value for variable {i + 1}: \"))\n",
        "  x_max.append(m)\n",
        "\n",
        "for i in range(dim):\n",
        "  m = int(input(f\"Enter the min value for variable {i + 1}: \"))\n",
        "  x_min.append(m)\n",
        "\n",
        "for i in range(dim):\n",
        "  m = float(input(f\"Enter the max velocity particle {i + 1} can reach: \"))\n",
        "  v_max.append(m)\n",
        "\n",
        "\n",
        "p_g, global_bestFit = PSO(numItr,npop,x_max,x_min,v_max,dim,c_cog,c_soc)"
      ],
      "metadata": {
        "id": "dMiDqyOW5cU5",
        "colab": {
          "base_uri": "https://localhost:8080/"
        },
        "outputId": "304bd36b-acc2-47f7-c76e-d68934f9a45a"
      },
      "execution_count": 33,
      "outputs": [
        {
          "name": "stdout",
          "output_type": "stream",
          "text": [
            "Enter number of iterations: 200\n",
            "Enter population size: 50\n",
            "Enter the Cognitive Component constant: 1.7\n",
            "Enter the Cognitive Component constant: 1.7\n",
            "Enter the max value for variable 1: 3\n",
            "Enter the max value for variable 2: 1\n",
            "Enter the min value for variable 1: -2\n",
            "Enter the min value for variable 2: -2\n",
            "Enter the max velocity particle 1 can reach: 0.1\n",
            "Enter the max velocity particle 2 can reach: 0.1\n"
          ]
        }
      ]
    },
    {
      "cell_type": "code",
      "source": [
        "p_g"
      ],
      "metadata": {
        "id": "VBtyaMa64KO_",
        "colab": {
          "base_uri": "https://localhost:8080/"
        },
        "outputId": "ddedf1e0-e067-498e-e7f4-8a2b657774c9"
      },
      "execution_count": 34,
      "outputs": [
        {
          "output_type": "execute_result",
          "data": {
            "text/plain": [
              "array([1.45939831, 0.03198601])"
            ]
          },
          "metadata": {},
          "execution_count": 34
        }
      ]
    },
    {
      "cell_type": "code",
      "source": [
        "global_bestFit"
      ],
      "metadata": {
        "colab": {
          "base_uri": "https://localhost:8080/"
        },
        "id": "jPW_eQwwVbvx",
        "outputId": "ac8c4f52-068e-40ab-889b-e3354259ab79"
      },
      "execution_count": 35,
      "outputs": [
        {
          "output_type": "execute_result",
          "data": {
            "text/plain": [
              "4.703448083000622"
            ]
          },
          "metadata": {},
          "execution_count": 35
        }
      ]
    }
  ]
}